{
  "nbformat": 4,
  "nbformat_minor": 0,
  "metadata": {
    "colab": {
      "name": "Recurrent_neural_network(LSTM).ipynb",
      "provenance": [],
      "collapsed_sections": [],
      "authorship_tag": "ABX9TyP4fH+jeEnL1S+ps3EJfavj",
      "include_colab_link": true
    },
    "kernelspec": {
      "name": "python3",
      "display_name": "Python 3"
    },
    "accelerator": "GPU"
  },
  "cells": [
    {
      "cell_type": "markdown",
      "metadata": {
        "id": "view-in-github",
        "colab_type": "text"
      },
      "source": [
        "<a href=\"https://colab.research.google.com/github/saiprasadlaxmeshwar/Goldman-sachs-closing-stock-price-prediction-using-Neural-Networks/blob/master/Recurrent_neural_network(LSTM).ipynb\" target=\"_parent\"><img src=\"https://colab.research.google.com/assets/colab-badge.svg\" alt=\"Open In Colab\"/></a>"
      ]
    },
    {
      "cell_type": "markdown",
      "metadata": {
        "id": "qi__dJ_UJbqP",
        "colab_type": "text"
      },
      "source": [
        "Predicting Goldman sachs closing stock price for 08/24/2020 using Recurrent neural network with LSTM."
      ]
    },
    {
      "cell_type": "code",
      "metadata": {
        "id": "ERvnW_EXCUch",
        "colab_type": "code",
        "colab": {
          "base_uri": "https://localhost:8080/",
          "height": 71
        },
        "outputId": "1821ab5d-dc55-4422-c647-b4309e124046"
      },
      "source": [
        "#import libraries\n",
        "import math\n",
        "import pandas_datareader as web\n",
        "import numpy as np\n",
        "import pandas as pd\n",
        "from sklearn.preprocessing import MinMaxScaler\n",
        "from keras.models import Sequential\n",
        "from keras.layers import Dense,LSTM,Dropout\n",
        "import matplotlib.pyplot as plt\n",
        "plt.style.use('fivethirtyeight')"
      ],
      "execution_count": 1,
      "outputs": [
        {
          "output_type": "stream",
          "text": [
            "/usr/local/lib/python3.6/dist-packages/pandas_datareader/compat/__init__.py:7: FutureWarning: pandas.util.testing is deprecated. Use the functions in the public API at pandas.testing instead.\n",
            "  from pandas.util.testing import assert_frame_equal\n"
          ],
          "name": "stderr"
        }
      ]
    },
    {
      "cell_type": "code",
      "metadata": {
        "id": "3jKbJnBIEDe5",
        "colab_type": "code",
        "colab": {
          "base_uri": "https://localhost:8080/",
          "height": 450
        },
        "outputId": "2af499eb-be10-4bdf-cc13-ea89563acf04"
      },
      "source": [
        "#get stocks\n",
        "df = web.DataReader('GS', data_source='yahoo',start='1999-06-01',end='2020-08-21')\n",
        "df\n"
      ],
      "execution_count": 2,
      "outputs": [
        {
          "output_type": "execute_result",
          "data": {
            "text/html": [
              "<div>\n",
              "<style scoped>\n",
              "    .dataframe tbody tr th:only-of-type {\n",
              "        vertical-align: middle;\n",
              "    }\n",
              "\n",
              "    .dataframe tbody tr th {\n",
              "        vertical-align: top;\n",
              "    }\n",
              "\n",
              "    .dataframe thead th {\n",
              "        text-align: right;\n",
              "    }\n",
              "</style>\n",
              "<table border=\"1\" class=\"dataframe\">\n",
              "  <thead>\n",
              "    <tr style=\"text-align: right;\">\n",
              "      <th></th>\n",
              "      <th>High</th>\n",
              "      <th>Low</th>\n",
              "      <th>Open</th>\n",
              "      <th>Close</th>\n",
              "      <th>Volume</th>\n",
              "      <th>Adj Close</th>\n",
              "    </tr>\n",
              "    <tr>\n",
              "      <th>Date</th>\n",
              "      <th></th>\n",
              "      <th></th>\n",
              "      <th></th>\n",
              "      <th></th>\n",
              "      <th></th>\n",
              "      <th></th>\n",
              "    </tr>\n",
              "  </thead>\n",
              "  <tbody>\n",
              "    <tr>\n",
              "      <th>1999-06-01</th>\n",
              "      <td>66.625000</td>\n",
              "      <td>63.562500</td>\n",
              "      <td>66.625000</td>\n",
              "      <td>64.187500</td>\n",
              "      <td>953900.0</td>\n",
              "      <td>50.594078</td>\n",
              "    </tr>\n",
              "    <tr>\n",
              "      <th>1999-06-02</th>\n",
              "      <td>64.062500</td>\n",
              "      <td>62.000000</td>\n",
              "      <td>63.750000</td>\n",
              "      <td>63.250000</td>\n",
              "      <td>2204300.0</td>\n",
              "      <td>49.855118</td>\n",
              "    </tr>\n",
              "    <tr>\n",
              "      <th>1999-06-03</th>\n",
              "      <td>64.187500</td>\n",
              "      <td>63.125000</td>\n",
              "      <td>64.000000</td>\n",
              "      <td>63.625000</td>\n",
              "      <td>852600.0</td>\n",
              "      <td>50.150673</td>\n",
              "    </tr>\n",
              "    <tr>\n",
              "      <th>1999-06-04</th>\n",
              "      <td>67.000000</td>\n",
              "      <td>64.312500</td>\n",
              "      <td>64.312500</td>\n",
              "      <td>65.375000</td>\n",
              "      <td>1357400.0</td>\n",
              "      <td>51.530079</td>\n",
              "    </tr>\n",
              "    <tr>\n",
              "      <th>1999-06-07</th>\n",
              "      <td>67.750000</td>\n",
              "      <td>65.187500</td>\n",
              "      <td>65.187500</td>\n",
              "      <td>65.937500</td>\n",
              "      <td>891900.0</td>\n",
              "      <td>51.973465</td>\n",
              "    </tr>\n",
              "    <tr>\n",
              "      <th>...</th>\n",
              "      <td>...</td>\n",
              "      <td>...</td>\n",
              "      <td>...</td>\n",
              "      <td>...</td>\n",
              "      <td>...</td>\n",
              "      <td>...</td>\n",
              "    </tr>\n",
              "    <tr>\n",
              "      <th>2020-08-17</th>\n",
              "      <td>207.850006</td>\n",
              "      <td>202.529999</td>\n",
              "      <td>207.000000</td>\n",
              "      <td>203.070007</td>\n",
              "      <td>3922600.0</td>\n",
              "      <td>203.070007</td>\n",
              "    </tr>\n",
              "    <tr>\n",
              "      <th>2020-08-18</th>\n",
              "      <td>203.580002</td>\n",
              "      <td>201.100006</td>\n",
              "      <td>203.449997</td>\n",
              "      <td>201.309998</td>\n",
              "      <td>3067900.0</td>\n",
              "      <td>201.309998</td>\n",
              "    </tr>\n",
              "    <tr>\n",
              "      <th>2020-08-19</th>\n",
              "      <td>206.100006</td>\n",
              "      <td>201.770004</td>\n",
              "      <td>202.399994</td>\n",
              "      <td>203.020004</td>\n",
              "      <td>2458500.0</td>\n",
              "      <td>203.020004</td>\n",
              "    </tr>\n",
              "    <tr>\n",
              "      <th>2020-08-20</th>\n",
              "      <td>203.279999</td>\n",
              "      <td>200.339996</td>\n",
              "      <td>200.759995</td>\n",
              "      <td>201.850006</td>\n",
              "      <td>1764200.0</td>\n",
              "      <td>201.850006</td>\n",
              "    </tr>\n",
              "    <tr>\n",
              "      <th>2020-08-21</th>\n",
              "      <td>203.350006</td>\n",
              "      <td>199.820007</td>\n",
              "      <td>200.110001</td>\n",
              "      <td>202.429993</td>\n",
              "      <td>1780900.0</td>\n",
              "      <td>202.429993</td>\n",
              "    </tr>\n",
              "  </tbody>\n",
              "</table>\n",
              "<p>5343 rows × 6 columns</p>\n",
              "</div>"
            ],
            "text/plain": [
              "                  High         Low  ...     Volume   Adj Close\n",
              "Date                                ...                       \n",
              "1999-06-01   66.625000   63.562500  ...   953900.0   50.594078\n",
              "1999-06-02   64.062500   62.000000  ...  2204300.0   49.855118\n",
              "1999-06-03   64.187500   63.125000  ...   852600.0   50.150673\n",
              "1999-06-04   67.000000   64.312500  ...  1357400.0   51.530079\n",
              "1999-06-07   67.750000   65.187500  ...   891900.0   51.973465\n",
              "...                ...         ...  ...        ...         ...\n",
              "2020-08-17  207.850006  202.529999  ...  3922600.0  203.070007\n",
              "2020-08-18  203.580002  201.100006  ...  3067900.0  201.309998\n",
              "2020-08-19  206.100006  201.770004  ...  2458500.0  203.020004\n",
              "2020-08-20  203.279999  200.339996  ...  1764200.0  201.850006\n",
              "2020-08-21  203.350006  199.820007  ...  1780900.0  202.429993\n",
              "\n",
              "[5343 rows x 6 columns]"
            ]
          },
          "metadata": {
            "tags": []
          },
          "execution_count": 2
        }
      ]
    },
    {
      "cell_type": "code",
      "metadata": {
        "id": "zFEXv36GEKDc",
        "colab_type": "code",
        "colab": {
          "base_uri": "https://localhost:8080/",
          "height": 34
        },
        "outputId": "2c4075af-ad51-49bd-f479-dd9c94e61b09"
      },
      "source": [
        "\n",
        "\n",
        "df.shape\n"
      ],
      "execution_count": 3,
      "outputs": [
        {
          "output_type": "execute_result",
          "data": {
            "text/plain": [
              "(5343, 6)"
            ]
          },
          "metadata": {
            "tags": []
          },
          "execution_count": 3
        }
      ]
    },
    {
      "cell_type": "code",
      "metadata": {
        "id": "AvBl-rFLd4xG",
        "colab_type": "code",
        "colab": {
          "base_uri": "https://localhost:8080/",
          "height": 518
        },
        "outputId": "5c034613-178b-4364-a041-e32d4d5e370d"
      },
      "source": [
        "#visualize the data\n",
        "plt.figure(figsize=(16,8))\n",
        "plt.title('close price history')\n",
        "plt.plot(df['Close'])\n",
        "plt.xlabel('Date', fontsize=18)\n",
        "plt.ylabel('Closing Price in ($)', fontsize=18)\n",
        "plt.show()\n"
      ],
      "execution_count": 4,
      "outputs": [
        {
          "output_type": "display_data",
          "data": {
            "image/png": "[encoded data removed]",
            "text/plain": [
              "<Figure size 1152x576 with 1 Axes>"
            ]
          },
          "metadata": {
            "tags": [],
            "needs_background": "light"
          }
        }
      ]
    },
    {
      "cell_type": "code",
      "metadata": {
        "id": "5y1K9NhPVizh",
        "colab_type": "code",
        "colab": {}
      },
      "source": [
        "#Create a new dataframe with only closing price column.\n",
        "data = df.filter(['Close'])\n",
        "\n",
        "#Convert the dataframe into numpy array\n",
        "dataset = data.values"
      ],
      "execution_count": 5,
      "outputs": []
    },
    {
      "cell_type": "code",
      "metadata": {
        "id": "aSkaPwwUWZJx",
        "colab_type": "code",
        "colab": {
          "base_uri": "https://localhost:8080/",
          "height": 34
        },
        "outputId": "bdaa41b8-03a2-4cf0-cfa5-84c2b8ac106e"
      },
      "source": [
        "#Get the rows to train the lstm model.\n",
        "training_data_len = math.ceil(len(dataset)*.80)\n",
        "training_data_len"
      ],
      "execution_count": 6,
      "outputs": [
        {
          "output_type": "execute_result",
          "data": {
            "text/plain": [
              "4275"
            ]
          },
          "metadata": {
            "tags": []
          },
          "execution_count": 6
        }
      ]
    },
    {
      "cell_type": "code",
      "metadata": {
        "id": "2ChTmCMVXx5_",
        "colab_type": "code",
        "colab": {
          "base_uri": "https://localhost:8080/",
          "height": 136
        },
        "outputId": "ae7ee821-6d1c-4202-9681-2855d2f141c3"
      },
      "source": [
        "#scale  the data\n",
        "scaler = MinMaxScaler(feature_range=(0,1))\n",
        "scaled_data= scaler.fit_transform(dataset)\n",
        "scaled_data\n"
      ],
      "execution_count": 7,
      "outputs": [
        {
          "output_type": "execute_result",
          "data": {
            "text/plain": [
              "array([[0.0550524 ],\n",
              "       [0.0508176 ],\n",
              "       [0.05251152],\n",
              "       ...,\n",
              "       [0.68217545],\n",
              "       [0.67689043],\n",
              "       [0.6795103 ]])"
            ]
          },
          "metadata": {
            "tags": []
          },
          "execution_count": 7
        }
      ]
    },
    {
      "cell_type": "code",
      "metadata": {
        "id": "3lIb-xs0Y8Om",
        "colab_type": "code",
        "colab": {
          "base_uri": "https://localhost:8080/",
          "height": 255
        },
        "outputId": "f0956c39-d39c-4c63-b35b-89af3c25b930"
      },
      "source": [
        "#create the training dataset\n",
        "#create scaled training dataset\n",
        "train_data = scaled_data[0:training_data_len , :]\n",
        "#split the data into x_train and y_train\n",
        "x_train = []\n",
        "y_train= []\n",
        "\n",
        "for i in range(60,len(train_data)):\n",
        "  x_train.append(train_data[i-60:i,0])\n",
        "  y_train.append(train_data[i,0])\n",
        "  if i <= 60 :\n",
        "    print(x_train)\n",
        "    print(y_train)\n",
        "    print()\n"
      ],
      "execution_count": 8,
      "outputs": [
        {
          "output_type": "stream",
          "text": [
            "[array([0.0550524 , 0.0508176 , 0.05251152, 0.06041648, 0.06295736,\n",
            "       0.05307616, 0.06098112, 0.05138224, 0.0508176 , 0.04178336,\n",
            "       0.04855904, 0.05985184, 0.05872256, 0.0578756 , 0.0790496 ,\n",
            "       0.07227392, 0.05872256, 0.05900488, 0.06436896, 0.06578056,\n",
            "       0.07114464, 0.09147168, 0.08497832, 0.08554296, 0.08356672,\n",
            "       0.07227392, 0.06888608, 0.06888608, 0.07396784, 0.07170928,\n",
            "       0.07058   , 0.0719916 , 0.07255624, 0.07876728, 0.07283856,\n",
            "       0.07170928, 0.06549824, 0.05448776, 0.0508176 , 0.06098112,\n",
            "       0.063522  , 0.05872256, 0.05561704, 0.04884136, 0.03980712,\n",
            "       0.03613696, 0.03274912, 0.01919776, 0.01722152, 0.0225856 ,\n",
            "       0.04291264, 0.03924248, 0.05025296, 0.04912368, 0.04968832,\n",
            "       0.0465828 , 0.04319496, 0.0465828 , 0.05251152, 0.05166456])]\n",
            "[0.05420543741677211]\n",
            "\n"
          ],
          "name": "stdout"
        }
      ]
    },
    {
      "cell_type": "code",
      "metadata": {
        "id": "zMx8-8wjc9OG",
        "colab_type": "code",
        "colab": {}
      },
      "source": [
        "#convert X and Y Train into numpy arrays.\n",
        "x_train,y_train = np.array(x_train),np.array(y_train)\n"
      ],
      "execution_count": 9,
      "outputs": []
    },
    {
      "cell_type": "code",
      "metadata": {
        "id": "4raHpypge4n7",
        "colab_type": "code",
        "colab": {
          "base_uri": "https://localhost:8080/",
          "height": 34
        },
        "outputId": "68dfa3a0-9bba-4828-ee8a-95b829164db4"
      },
      "source": [
        "#Reshape the data as the lstm model expects data to be 3 dimensional.\n",
        "x_train = np.reshape(x_train,(x_train.shape[0],x_train.shape[1],1))\n",
        "x_train.shape\n"
      ],
      "execution_count": 10,
      "outputs": [
        {
          "output_type": "execute_result",
          "data": {
            "text/plain": [
              "(4215, 60, 1)"
            ]
          },
          "metadata": {
            "tags": []
          },
          "execution_count": 10
        }
      ]
    },
    {
      "cell_type": "code",
      "metadata": {
        "id": "4oDUQQ_2e46x",
        "colab_type": "code",
        "colab": {
          "base_uri": "https://localhost:8080/",
          "height": 1000
        },
        "outputId": "2991539b-1724-4811-be9d-1d2de53a3ce5"
      },
      "source": [
        "#Lets Build the lstm model\n",
        "model = Sequential()\n",
        "model.add(LSTM(units=50,return_sequences=True,input_shape=(x_train.shape[1], 1)))\n",
        "model.add(Dropout(0.2))\n",
        "model.add(LSTM(units=50,return_sequences=True))\n",
        "model.add(Dropout(0.2))\n",
        "model.add(LSTM(units=50,return_sequences=True))\n",
        "model.add(Dropout(0.2))\n",
        "model.add(LSTM(units=50))\n",
        "model.add(Dropout(0.2))\n",
        "model.add(Dense(units=1))\n",
        "model.compile(optimizer='adam',loss='mean_squared_error')\n",
        "model.fit(x_train,y_train,epochs=100,batch_size=32)"
      ],
      "execution_count": 11,
      "outputs": [
        {
          "output_type": "stream",
          "text": [
            "Epoch 1/100\n",
            "132/132 [==============================] - 2s 14ms/step - loss: 0.0084\n",
            "Epoch 2/100\n",
            "132/132 [==============================] - 2s 14ms/step - loss: 0.0028\n",
            "Epoch 3/100\n",
            "132/132 [==============================] - 2s 15ms/step - loss: 0.0028\n",
            "Epoch 4/100\n",
            "132/132 [==============================] - 2s 14ms/step - loss: 0.0023\n",
            "Epoch 5/100\n",
            "132/132 [==============================] - 2s 15ms/step - loss: 0.0021\n",
            "Epoch 6/100\n",
            "132/132 [==============================] - 2s 15ms/step - loss: 0.0019\n",
            "Epoch 7/100\n",
            "132/132 [==============================] - 2s 14ms/step - loss: 0.0018\n",
            "Epoch 8/100\n",
            "132/132 [==============================] - 2s 14ms/step - loss: 0.0017\n",
            "Epoch 9/100\n",
            "132/132 [==============================] - 2s 14ms/step - loss: 0.0018\n",
            "Epoch 10/100\n",
            "132/132 [==============================] - 2s 14ms/step - loss: 0.0016\n",
            "Epoch 11/100\n",
            "132/132 [==============================] - 2s 14ms/step - loss: 0.0014\n",
            "Epoch 12/100\n",
            "132/132 [==============================] - 2s 14ms/step - loss: 0.0014\n",
            "Epoch 13/100\n",
            "132/132 [==============================] - 2s 13ms/step - loss: 0.0014\n",
            "Epoch 14/100\n",
            "132/132 [==============================] - 2s 13ms/step - loss: 0.0013\n",
            "Epoch 15/100\n",
            "132/132 [==============================] - 2s 13ms/step - loss: 0.0013\n",
            "Epoch 16/100\n",
            "132/132 [==============================] - 2s 14ms/step - loss: 0.0012\n",
            "Epoch 17/100\n",
            "132/132 [==============================] - 2s 14ms/step - loss: 0.0011\n",
            "Epoch 18/100\n",
            "132/132 [==============================] - 2s 14ms/step - loss: 0.0011\n",
            "Epoch 19/100\n",
            "132/132 [==============================] - 2s 15ms/step - loss: 0.0011\n",
            "Epoch 20/100\n",
            "132/132 [==============================] - 2s 14ms/step - loss: 0.0010\n",
            "Epoch 21/100\n",
            "132/132 [==============================] - 2s 13ms/step - loss: 9.6736e-04\n",
            "Epoch 22/100\n",
            "132/132 [==============================] - 2s 14ms/step - loss: 9.1946e-04\n",
            "Epoch 23/100\n",
            "132/132 [==============================] - 2s 14ms/step - loss: 9.2653e-04\n",
            "Epoch 24/100\n",
            "132/132 [==============================] - 2s 13ms/step - loss: 9.4854e-04\n",
            "Epoch 25/100\n",
            "132/132 [==============================] - 2s 13ms/step - loss: 8.6308e-04\n",
            "Epoch 26/100\n",
            "132/132 [==============================] - 2s 13ms/step - loss: 8.8088e-04\n",
            "Epoch 27/100\n",
            "132/132 [==============================] - 2s 14ms/step - loss: 8.2296e-04\n",
            "Epoch 28/100\n",
            "132/132 [==============================] - 2s 14ms/step - loss: 8.6193e-04\n",
            "Epoch 29/100\n",
            "132/132 [==============================] - 2s 13ms/step - loss: 8.0181e-04\n",
            "Epoch 30/100\n",
            "132/132 [==============================] - 2s 13ms/step - loss: 8.3671e-04\n",
            "Epoch 31/100\n",
            "132/132 [==============================] - 2s 13ms/step - loss: 7.2146e-04\n",
            "Epoch 32/100\n",
            "132/132 [==============================] - 2s 13ms/step - loss: 7.5351e-04\n",
            "Epoch 33/100\n",
            "132/132 [==============================] - 2s 15ms/step - loss: 7.9567e-04\n",
            "Epoch 34/100\n",
            "132/132 [==============================] - 2s 14ms/step - loss: 7.1728e-04\n",
            "Epoch 35/100\n",
            "132/132 [==============================] - 2s 13ms/step - loss: 6.8651e-04\n",
            "Epoch 36/100\n",
            "132/132 [==============================] - 2s 14ms/step - loss: 7.2327e-04\n",
            "Epoch 37/100\n",
            "132/132 [==============================] - 2s 15ms/step - loss: 7.0343e-04\n",
            "Epoch 38/100\n",
            "132/132 [==============================] - 2s 15ms/step - loss: 6.8471e-04\n",
            "Epoch 39/100\n",
            "132/132 [==============================] - 2s 15ms/step - loss: 6.5264e-04\n",
            "Epoch 40/100\n",
            "132/132 [==============================] - 2s 15ms/step - loss: 6.3944e-04\n",
            "Epoch 41/100\n",
            "132/132 [==============================] - 2s 13ms/step - loss: 6.9905e-04\n",
            "Epoch 42/100\n",
            "132/132 [==============================] - 2s 14ms/step - loss: 6.5590e-04\n",
            "Epoch 43/100\n",
            "132/132 [==============================] - 2s 15ms/step - loss: 7.0552e-04\n",
            "Epoch 44/100\n",
            "132/132 [==============================] - 2s 15ms/step - loss: 6.2985e-04\n",
            "Epoch 45/100\n",
            "132/132 [==============================] - 2s 15ms/step - loss: 6.3020e-04\n",
            "Epoch 46/100\n",
            "132/132 [==============================] - 2s 15ms/step - loss: 6.3456e-04\n",
            "Epoch 47/100\n",
            "132/132 [==============================] - 2s 13ms/step - loss: 7.2856e-04\n",
            "Epoch 48/100\n",
            "132/132 [==============================] - 2s 14ms/step - loss: 5.9663e-04\n",
            "Epoch 49/100\n",
            "132/132 [==============================] - 2s 13ms/step - loss: 6.0482e-04\n",
            "Epoch 50/100\n",
            "132/132 [==============================] - 2s 14ms/step - loss: 6.0093e-04\n",
            "Epoch 51/100\n",
            "132/132 [==============================] - 2s 14ms/step - loss: 6.2641e-04\n",
            "Epoch 52/100\n",
            "132/132 [==============================] - 2s 13ms/step - loss: 6.2974e-04\n",
            "Epoch 53/100\n",
            "132/132 [==============================] - 2s 13ms/step - loss: 6.6785e-04\n",
            "Epoch 54/100\n",
            "132/132 [==============================] - 2s 14ms/step - loss: 5.9141e-04\n",
            "Epoch 55/100\n",
            "132/132 [==============================] - 2s 13ms/step - loss: 5.9789e-04\n",
            "Epoch 56/100\n",
            "132/132 [==============================] - 2s 13ms/step - loss: 5.5722e-04\n",
            "Epoch 57/100\n",
            "132/132 [==============================] - 2s 14ms/step - loss: 5.9374e-04\n",
            "Epoch 58/100\n",
            "132/132 [==============================] - 2s 13ms/step - loss: 6.1290e-04\n",
            "Epoch 59/100\n",
            "132/132 [==============================] - 2s 13ms/step - loss: 6.2217e-04\n",
            "Epoch 60/100\n",
            "132/132 [==============================] - 2s 13ms/step - loss: 6.1406e-04\n",
            "Epoch 61/100\n",
            "132/132 [==============================] - 2s 14ms/step - loss: 5.8181e-04\n",
            "Epoch 62/100\n",
            "132/132 [==============================] - 2s 14ms/step - loss: 5.6143e-04\n",
            "Epoch 63/100\n",
            "132/132 [==============================] - 2s 13ms/step - loss: 5.6176e-04\n",
            "Epoch 64/100\n",
            "132/132 [==============================] - 2s 13ms/step - loss: 5.7397e-04\n",
            "Epoch 65/100\n",
            "132/132 [==============================] - 2s 13ms/step - loss: 5.8468e-04\n",
            "Epoch 66/100\n",
            "132/132 [==============================] - 2s 14ms/step - loss: 5.8061e-04\n",
            "Epoch 67/100\n",
            "132/132 [==============================] - 2s 15ms/step - loss: 5.6804e-04\n",
            "Epoch 68/100\n",
            "132/132 [==============================] - 2s 15ms/step - loss: 5.7220e-04\n",
            "Epoch 69/100\n",
            "132/132 [==============================] - 2s 14ms/step - loss: 5.4721e-04\n",
            "Epoch 70/100\n",
            "132/132 [==============================] - 2s 13ms/step - loss: 5.6756e-04\n",
            "Epoch 71/100\n",
            "132/132 [==============================] - 2s 13ms/step - loss: 5.7564e-04\n",
            "Epoch 72/100\n",
            "132/132 [==============================] - 2s 14ms/step - loss: 5.7651e-04\n",
            "Epoch 73/100\n",
            "132/132 [==============================] - 2s 14ms/step - loss: 6.0394e-04\n",
            "Epoch 74/100\n",
            "132/132 [==============================] - 2s 14ms/step - loss: 5.5728e-04\n",
            "Epoch 75/100\n",
            "132/132 [==============================] - 2s 14ms/step - loss: 5.7397e-04\n",
            "Epoch 76/100\n",
            "132/132 [==============================] - 2s 14ms/step - loss: 6.0261e-04\n",
            "Epoch 77/100\n",
            "132/132 [==============================] - 2s 13ms/step - loss: 5.5888e-04\n",
            "Epoch 78/100\n",
            "132/132 [==============================] - 2s 15ms/step - loss: 5.5707e-04\n",
            "Epoch 79/100\n",
            "132/132 [==============================] - 2s 14ms/step - loss: 5.6341e-04\n",
            "Epoch 80/100\n",
            "132/132 [==============================] - 2s 15ms/step - loss: 5.4906e-04\n",
            "Epoch 81/100\n",
            "132/132 [==============================] - 2s 14ms/step - loss: 5.7747e-04\n",
            "Epoch 82/100\n",
            "132/132 [==============================] - 2s 14ms/step - loss: 5.1732e-04\n",
            "Epoch 83/100\n",
            "132/132 [==============================] - 2s 14ms/step - loss: 5.4519e-04\n",
            "Epoch 84/100\n",
            "132/132 [==============================] - 2s 14ms/step - loss: 5.6606e-04\n",
            "Epoch 85/100\n",
            "132/132 [==============================] - 2s 14ms/step - loss: 5.5718e-04\n",
            "Epoch 86/100\n",
            "132/132 [==============================] - 2s 15ms/step - loss: 5.4919e-04\n",
            "Epoch 87/100\n",
            "132/132 [==============================] - 2s 14ms/step - loss: 5.0049e-04\n",
            "Epoch 88/100\n",
            "132/132 [==============================] - 2s 13ms/step - loss: 5.5783e-04\n",
            "Epoch 89/100\n",
            "132/132 [==============================] - 2s 14ms/step - loss: 5.3390e-04\n",
            "Epoch 90/100\n",
            "132/132 [==============================] - 2s 14ms/step - loss: 5.2690e-04\n",
            "Epoch 91/100\n",
            "132/132 [==============================] - 2s 15ms/step - loss: 5.5049e-04\n",
            "Epoch 92/100\n",
            "132/132 [==============================] - 2s 14ms/step - loss: 5.6069e-04\n",
            "Epoch 93/100\n",
            "132/132 [==============================] - 2s 14ms/step - loss: 5.6781e-04\n",
            "Epoch 94/100\n",
            "132/132 [==============================] - 2s 15ms/step - loss: 5.2071e-04\n",
            "Epoch 95/100\n",
            "132/132 [==============================] - 2s 14ms/step - loss: 5.4719e-04\n",
            "Epoch 96/100\n",
            "132/132 [==============================] - 2s 14ms/step - loss: 5.4836e-04\n",
            "Epoch 97/100\n",
            "132/132 [==============================] - 2s 14ms/step - loss: 4.7874e-04\n",
            "Epoch 98/100\n",
            "132/132 [==============================] - 2s 14ms/step - loss: 5.3073e-04\n",
            "Epoch 99/100\n",
            "132/132 [==============================] - 2s 14ms/step - loss: 5.3123e-04\n",
            "Epoch 100/100\n",
            "132/132 [==============================] - 2s 14ms/step - loss: 5.3566e-04\n"
          ],
          "name": "stdout"
        },
        {
          "output_type": "execute_result",
          "data": {
            "text/plain": [
              "<tensorflow.python.keras.callbacks.History at 0x7f4e90053f60>"
            ]
          },
          "metadata": {
            "tags": []
          },
          "execution_count": 11
        }
      ]
    },
    {
      "cell_type": "code",
      "metadata": {
        "id": "9cS8KveUlPui",
        "colab_type": "code",
        "colab": {}
      },
      "source": [
        "#create Testing dataset\n",
        "#create a new array containing scaled values from index 1677 till 2171\n",
        "test_data= scaled_data[training_data_len-60: , :] \n",
        "#Lets create x_test and y_test dataset\n",
        "x_test=[]\n",
        "y_test= dataset[training_data_len:,:]\n",
        "for i in range(60, len(test_data)):\n",
        "  x_test.append(test_data[i-60:i,0])\n",
        "\n",
        "\n"
      ],
      "execution_count": 12,
      "outputs": []
    },
    {
      "cell_type": "code",
      "metadata": {
        "id": "Pbfv_xotmyww",
        "colab_type": "code",
        "colab": {
          "base_uri": "https://localhost:8080/",
          "height": 34
        },
        "outputId": "56d871bb-b4c4-45ef-c670-498fc247310a"
      },
      "source": [
        "#CConvert a numpy array of x_test\n",
        "x_test= np.array(x_test)\n",
        "x_test.shape"
      ],
      "execution_count": 13,
      "outputs": [
        {
          "output_type": "execute_result",
          "data": {
            "text/plain": [
              "(1068, 60)"
            ]
          },
          "metadata": {
            "tags": []
          },
          "execution_count": 13
        }
      ]
    },
    {
      "cell_type": "code",
      "metadata": {
        "id": "HFPeNl63p1r5",
        "colab_type": "code",
        "colab": {
          "base_uri": "https://localhost:8080/",
          "height": 34
        },
        "outputId": "9c36e492-6dbd-491a-de14-a2e8d07596a3"
      },
      "source": [
        "#lets reshape the data\n",
        "x_test = np.reshape(x_test,(x_test.shape[0],x_test.shape[1],1))\n",
        "x_test.shape"
      ],
      "execution_count": 14,
      "outputs": [
        {
          "output_type": "execute_result",
          "data": {
            "text/plain": [
              "(1068, 60, 1)"
            ]
          },
          "metadata": {
            "tags": []
          },
          "execution_count": 14
        }
      ]
    },
    {
      "cell_type": "code",
      "metadata": {
        "id": "-8Me7E47uHvs",
        "colab_type": "code",
        "colab": {}
      },
      "source": [
        "#Get models predicted price values\n",
        "predictions = model.predict(x_test)\n",
        "predictions = scaler.inverse_transform(predictions)"
      ],
      "execution_count": 15,
      "outputs": []
    },
    {
      "cell_type": "code",
      "metadata": {
        "id": "1nT4xG2au6LM",
        "colab_type": "code",
        "colab": {
          "base_uri": "https://localhost:8080/",
          "height": 34
        },
        "outputId": "6946cd51-df0a-4026-8588-62cedd2cbfcb"
      },
      "source": [
        "#now lets evaluate the model with RMSE metric\n",
        "rmse= np.sqrt(np.mean(predictions-y_test)**2)\n",
        "rmse\n"
      ],
      "execution_count": 16,
      "outputs": [
        {
          "output_type": "execute_result",
          "data": {
            "text/plain": [
              "2.4425976499636075"
            ]
          },
          "metadata": {
            "tags": []
          },
          "execution_count": 16
        }
      ]
    },
    {
      "cell_type": "code",
      "metadata": {
        "id": "rRWYd7nXvvF8",
        "colab_type": "code",
        "colab": {
          "base_uri": "https://localhost:8080/",
          "height": 620
        },
        "outputId": "2e3839e8-a36f-4341-d6b4-c8a451ccbaca"
      },
      "source": [
        "\n",
        "#plot the data\n",
        "train = data[:training_data_len]\n",
        "valid = data[training_data_len:]\n",
        "valid['Predictions'] = predictions\n",
        "#Visualize the Plot\n",
        "plt.figure(figsize=(16,8))\n",
        "plt.title('Model')\n",
        "plt.xlabel('Date', fontsize=18)\n",
        "plt.ylabel('Closing Price in ($)', fontsize=18)\n",
        "plt.plot(train['Close'])\n",
        "plt.plot(valid[['Close','Predictions']])\n",
        "plt.legend(['Train','Val','Predictions'], loc= 'lower right')\n",
        "plt.show()\n"
      ],
      "execution_count": 17,
      "outputs": [
        {
          "output_type": "stream",
          "text": [
            "/usr/local/lib/python3.6/dist-packages/ipykernel_launcher.py:5: SettingWithCopyWarning: \n",
            "A value is trying to be set on a copy of a slice from a DataFrame.\n",
            "Try using .loc[row_indexer,col_indexer] = value instead\n",
            "\n",
            "See the caveats in the documentation: https://pandas.pydata.org/pandas-docs/stable/user_guide/indexing.html#returning-a-view-versus-a-copy\n",
            "  \"\"\"\n"
          ],
          "name": "stderr"
        },
        {
          "output_type": "display_data",
          "data": {
            "image/png": "[encoded data removed]",
            "text/plain": [
              "<Figure size 1152x576 with 1 Axes>"
            ]
          },
          "metadata": {
            "tags": [],
            "needs_background": "light"
          }
        }
      ]
    },
    {
      "cell_type": "code",
      "metadata": {
        "id": "QWHqGAn_zXkV",
        "colab_type": "code",
        "colab": {
          "base_uri": "https://localhost:8080/",
          "height": 450
        },
        "outputId": "3ef00d4d-338f-4582-895d-e84027545cbc"
      },
      "source": [
        "valid"
      ],
      "execution_count": 18,
      "outputs": [
        {
          "output_type": "execute_result",
          "data": {
            "text/html": [
              "<div>\n",
              "<style scoped>\n",
              "    .dataframe tbody tr th:only-of-type {\n",
              "        vertical-align: middle;\n",
              "    }\n",
              "\n",
              "    .dataframe tbody tr th {\n",
              "        vertical-align: top;\n",
              "    }\n",
              "\n",
              "    .dataframe thead th {\n",
              "        text-align: right;\n",
              "    }\n",
              "</style>\n",
              "<table border=\"1\" class=\"dataframe\">\n",
              "  <thead>\n",
              "    <tr style=\"text-align: right;\">\n",
              "      <th></th>\n",
              "      <th>Close</th>\n",
              "      <th>Predictions</th>\n",
              "    </tr>\n",
              "    <tr>\n",
              "      <th>Date</th>\n",
              "      <th></th>\n",
              "      <th></th>\n",
              "    </tr>\n",
              "  </thead>\n",
              "  <tbody>\n",
              "    <tr>\n",
              "      <th>2016-05-26</th>\n",
              "      <td>159.220001</td>\n",
              "      <td>160.855988</td>\n",
              "    </tr>\n",
              "    <tr>\n",
              "      <th>2016-05-27</th>\n",
              "      <td>159.529999</td>\n",
              "      <td>159.841339</td>\n",
              "    </tr>\n",
              "    <tr>\n",
              "      <th>2016-05-31</th>\n",
              "      <td>159.479996</td>\n",
              "      <td>159.806061</td>\n",
              "    </tr>\n",
              "    <tr>\n",
              "      <th>2016-06-01</th>\n",
              "      <td>159.970001</td>\n",
              "      <td>159.653458</td>\n",
              "    </tr>\n",
              "    <tr>\n",
              "      <th>2016-06-02</th>\n",
              "      <td>159.279999</td>\n",
              "      <td>160.046921</td>\n",
              "    </tr>\n",
              "    <tr>\n",
              "      <th>...</th>\n",
              "      <td>...</td>\n",
              "      <td>...</td>\n",
              "    </tr>\n",
              "    <tr>\n",
              "      <th>2020-08-17</th>\n",
              "      <td>203.070007</td>\n",
              "      <td>207.249466</td>\n",
              "    </tr>\n",
              "    <tr>\n",
              "      <th>2020-08-18</th>\n",
              "      <td>201.309998</td>\n",
              "      <td>203.546860</td>\n",
              "    </tr>\n",
              "    <tr>\n",
              "      <th>2020-08-19</th>\n",
              "      <td>203.020004</td>\n",
              "      <td>201.748993</td>\n",
              "    </tr>\n",
              "    <tr>\n",
              "      <th>2020-08-20</th>\n",
              "      <td>201.850006</td>\n",
              "      <td>202.654251</td>\n",
              "    </tr>\n",
              "    <tr>\n",
              "      <th>2020-08-21</th>\n",
              "      <td>202.429993</td>\n",
              "      <td>202.015747</td>\n",
              "    </tr>\n",
              "  </tbody>\n",
              "</table>\n",
              "<p>1068 rows × 2 columns</p>\n",
              "</div>"
            ],
            "text/plain": [
              "                 Close  Predictions\n",
              "Date                               \n",
              "2016-05-26  159.220001   160.855988\n",
              "2016-05-27  159.529999   159.841339\n",
              "2016-05-31  159.479996   159.806061\n",
              "2016-06-01  159.970001   159.653458\n",
              "2016-06-02  159.279999   160.046921\n",
              "...                ...          ...\n",
              "2020-08-17  203.070007   207.249466\n",
              "2020-08-18  201.309998   203.546860\n",
              "2020-08-19  203.020004   201.748993\n",
              "2020-08-20  201.850006   202.654251\n",
              "2020-08-21  202.429993   202.015747\n",
              "\n",
              "[1068 rows x 2 columns]"
            ]
          },
          "metadata": {
            "tags": []
          },
          "execution_count": 18
        }
      ]
    },
    {
      "cell_type": "code",
      "metadata": {
        "id": "F1bKT4xOzanU",
        "colab_type": "code",
        "colab": {}
      },
      "source": [
        "\n",
        "#Get the Quote\n",
        "GS_quote= web.DataReader('GS', data_source='yahoo',start='2003-01-01',end='2020-08-21')\n",
        "#create new data frame\n",
        "GS_df= GS_quote.filter(['Close'])\n",
        "#Get last 60 days closing price\n",
        "last_60_days= GS_df[-60:].values\n",
        "#scale the data\n",
        "last_60_days_scaled = scaler.transform(last_60_days)\n",
        "#create an empty list\n",
        "X_test = []\n",
        "#append the last 60 days prices to X_test\n",
        "X_test.append(last_60_days_scaled)\n",
        "#lets convert X_test to a Numpy array\n",
        "X_test = np.array(X_test)\n",
        "#Reshape the data to 3 dimentional\n",
        "X_test= np.reshape(X_test,(X_test.shape[0],X_test.shape[1],1))\n",
        "#Get the predicted scaled price\n",
        "pred_price= model.predict(X_test)\n",
        "#inverse Transform the Scaled data \n",
        "pred_price= scaler.inverse_transform(pred_price)\n"
      ],
      "execution_count": 32,
      "outputs": []
    },
    {
      "cell_type": "code",
      "metadata": {
        "id": "dYJcyM2Q8Coz",
        "colab_type": "code",
        "colab": {
          "base_uri": "https://localhost:8080/",
          "height": 34
        },
        "outputId": "3ae23742-5402-4a87-9f8f-72dc0d035566"
      },
      "source": [
        "#Goldman Sachs Closing Stock Price Predictions for 08/24/2020\n",
        "print(pred_price)\n",
        "\n"
      ],
      "execution_count": 33,
      "outputs": [
        {
          "output_type": "stream",
          "text": [
            "[[202.43855]]\n"
          ],
          "name": "stdout"
        }
      ]
    },
    {
      "cell_type": "code",
      "metadata": {
        "id": "pDfZOf6q8PjV",
        "colab_type": "code",
        "colab": {}
      },
      "source": [
        ""
      ],
      "execution_count": null,
      "outputs": []
    },
    {
      "cell_type": "code",
      "metadata": {
        "id": "UzqAjjCHHAdq",
        "colab_type": "code",
        "colab": {}
      },
      "source": [
        ""
      ],
      "execution_count": null,
      "outputs": []
    }
  ]
}